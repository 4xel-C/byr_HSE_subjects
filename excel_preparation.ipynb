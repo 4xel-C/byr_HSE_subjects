{
 "cells": [
  {
   "cell_type": "code",
   "execution_count": 1,
   "metadata": {},
   "outputs": [],
   "source": [
    "import pandas as pd"
   ]
  },
  {
   "cell_type": "code",
   "execution_count": 1,
   "metadata": {},
   "outputs": [
    {
     "data": {
      "text/plain": [
       "False"
      ]
     },
     "execution_count": 1,
     "metadata": {},
     "output_type": "execute_result"
    }
   ],
   "source": [
    "1 == \"1\""
   ]
  },
  {
   "cell_type": "code",
   "execution_count": 2,
   "metadata": {},
   "outputs": [],
   "source": [
    "pd.set_option('display.max_colwidth', None)"
   ]
  },
  {
   "cell_type": "code",
   "execution_count": 3,
   "metadata": {},
   "outputs": [],
   "source": [
    "df = pd.read_excel('data/discussions_history.xlsx')"
   ]
  },
  {
   "cell_type": "code",
   "execution_count": 33,
   "metadata": {},
   "outputs": [
    {
     "data": {
      "text/html": [
       "<div>\n",
       "<style scoped>\n",
       "    .dataframe tbody tr th:only-of-type {\n",
       "        vertical-align: middle;\n",
       "    }\n",
       "\n",
       "    .dataframe tbody tr th {\n",
       "        vertical-align: top;\n",
       "    }\n",
       "\n",
       "    .dataframe thead th {\n",
       "        text-align: right;\n",
       "    }\n",
       "</style>\n",
       "<table border=\"1\" class=\"dataframe\">\n",
       "  <thead>\n",
       "    <tr style=\"text-align: right;\">\n",
       "      <th></th>\n",
       "      <th>Procedure</th>\n",
       "      <th>date</th>\n",
       "    </tr>\n",
       "  </thead>\n",
       "  <tbody>\n",
       "    <tr>\n",
       "      <th>0</th>\n",
       "      <td>PROC02</td>\n",
       "      <td>2022-06</td>\n",
       "    </tr>\n",
       "    <tr>\n",
       "      <th>1</th>\n",
       "      <td>PROC15</td>\n",
       "      <td>2022-07</td>\n",
       "    </tr>\n",
       "    <tr>\n",
       "      <th>2</th>\n",
       "      <td>PROC12</td>\n",
       "      <td>2022-09</td>\n",
       "    </tr>\n",
       "    <tr>\n",
       "      <th>3</th>\n",
       "      <td>PROC13</td>\n",
       "      <td>2022-10</td>\n",
       "    </tr>\n",
       "    <tr>\n",
       "      <th>4</th>\n",
       "      <td>PROC198</td>\n",
       "      <td>2022-11</td>\n",
       "    </tr>\n",
       "    <tr>\n",
       "      <th>5</th>\n",
       "      <td>PROC27</td>\n",
       "      <td>2022-12</td>\n",
       "    </tr>\n",
       "    <tr>\n",
       "      <th>6</th>\n",
       "      <td>PROC16</td>\n",
       "      <td>2023-01</td>\n",
       "    </tr>\n",
       "    <tr>\n",
       "      <th>7</th>\n",
       "      <td>PROC17 DR01</td>\n",
       "      <td>2023-02</td>\n",
       "    </tr>\n",
       "    <tr>\n",
       "      <th>8</th>\n",
       "      <td>PROC17 (p.1 à 14)</td>\n",
       "      <td>2023-03</td>\n",
       "    </tr>\n",
       "    <tr>\n",
       "      <th>9</th>\n",
       "      <td>PROC171</td>\n",
       "      <td>2023-04</td>\n",
       "    </tr>\n",
       "    <tr>\n",
       "      <th>10</th>\n",
       "      <td>PROC21</td>\n",
       "      <td>2023-05</td>\n",
       "    </tr>\n",
       "    <tr>\n",
       "      <th>11</th>\n",
       "      <td>PROC20 DR09 + DR10</td>\n",
       "      <td>2023-06</td>\n",
       "    </tr>\n",
       "    <tr>\n",
       "      <th>12</th>\n",
       "      <td>PROC20 DR03</td>\n",
       "      <td>2023-07</td>\n",
       "    </tr>\n",
       "    <tr>\n",
       "      <th>13</th>\n",
       "      <td>PROC20 DR05</td>\n",
       "      <td>2023-08</td>\n",
       "    </tr>\n",
       "    <tr>\n",
       "      <th>14</th>\n",
       "      <td>PROC13</td>\n",
       "      <td>2023-09</td>\n",
       "    </tr>\n",
       "    <tr>\n",
       "      <th>15</th>\n",
       "      <td>PROC20 DR07 + DR08</td>\n",
       "      <td>2023-10</td>\n",
       "    </tr>\n",
       "    <tr>\n",
       "      <th>16</th>\n",
       "      <td>PROC15</td>\n",
       "      <td>2023-11</td>\n",
       "    </tr>\n",
       "    <tr>\n",
       "      <th>17</th>\n",
       "      <td>PROC12</td>\n",
       "      <td>2023-12</td>\n",
       "    </tr>\n",
       "    <tr>\n",
       "      <th>18</th>\n",
       "      <td>PROC17 (p.1 à 14)</td>\n",
       "      <td>2024-01</td>\n",
       "    </tr>\n",
       "    <tr>\n",
       "      <th>19</th>\n",
       "      <td>PROC17 (p.15 à fin)</td>\n",
       "      <td>2024-02</td>\n",
       "    </tr>\n",
       "    <tr>\n",
       "      <th>20</th>\n",
       "      <td>PROC12</td>\n",
       "      <td>2024-03</td>\n",
       "    </tr>\n",
       "    <tr>\n",
       "      <th>21</th>\n",
       "      <td>PROC300 + DR01 + DR02</td>\n",
       "      <td>2024-04</td>\n",
       "    </tr>\n",
       "    <tr>\n",
       "      <th>22</th>\n",
       "      <td>PROC20 DR09 + DR10</td>\n",
       "      <td>2024-05</td>\n",
       "    </tr>\n",
       "    <tr>\n",
       "      <th>23</th>\n",
       "      <td>PROC198</td>\n",
       "      <td>2024-06</td>\n",
       "    </tr>\n",
       "    <tr>\n",
       "      <th>24</th>\n",
       "      <td>PROC02</td>\n",
       "      <td>2024-07</td>\n",
       "    </tr>\n",
       "    <tr>\n",
       "      <th>25</th>\n",
       "      <td>PROC198</td>\n",
       "      <td>2024-08</td>\n",
       "    </tr>\n",
       "    <tr>\n",
       "      <th>26</th>\n",
       "      <td>PROC13</td>\n",
       "      <td>2024-09</td>\n",
       "    </tr>\n",
       "    <tr>\n",
       "      <th>27</th>\n",
       "      <td>PROC21 + DR02 + DR03</td>\n",
       "      <td>2024-10</td>\n",
       "    </tr>\n",
       "    <tr>\n",
       "      <th>28</th>\n",
       "      <td>PROCXXX</td>\n",
       "      <td>2024-11</td>\n",
       "    </tr>\n",
       "    <tr>\n",
       "      <th>29</th>\n",
       "      <td>PROC20 (p.1 à 7)</td>\n",
       "      <td>2024-12</td>\n",
       "    </tr>\n",
       "    <tr>\n",
       "      <th>30</th>\n",
       "      <td>PROC20 (p.8 à 14)</td>\n",
       "      <td>2025-01</td>\n",
       "    </tr>\n",
       "  </tbody>\n",
       "</table>\n",
       "</div>"
      ],
      "text/plain": [
       "                Procedure     date\n",
       "0                  PROC02  2022-06\n",
       "1                  PROC15  2022-07\n",
       "2                  PROC12  2022-09\n",
       "3                  PROC13  2022-10\n",
       "4                 PROC198  2022-11\n",
       "5                  PROC27  2022-12\n",
       "6                 PROC16   2023-01\n",
       "7             PROC17 DR01  2023-02\n",
       "8       PROC17 (p.1 à 14)  2023-03\n",
       "9                 PROC171  2023-04\n",
       "10                 PROC21  2023-05\n",
       "11     PROC20 DR09 + DR10  2023-06\n",
       "12            PROC20 DR03  2023-07\n",
       "13            PROC20 DR05  2023-08\n",
       "14                 PROC13  2023-09\n",
       "15     PROC20 DR07 + DR08  2023-10\n",
       "16                PROC15   2023-11\n",
       "17                 PROC12  2023-12\n",
       "18      PROC17 (p.1 à 14)  2024-01\n",
       "19    PROC17 (p.15 à fin)  2024-02\n",
       "20                 PROC12  2024-03\n",
       "21  PROC300 + DR01 + DR02  2024-04\n",
       "22     PROC20 DR09 + DR10  2024-05\n",
       "23                PROC198  2024-06\n",
       "24                 PROC02  2024-07\n",
       "25                PROC198  2024-08\n",
       "26                 PROC13  2024-09\n",
       "27   PROC21 + DR02 + DR03  2024-10\n",
       "28                PROCXXX  2024-11\n",
       "29       PROC20 (p.1 à 7)  2024-12\n",
       "30      PROC20 (p.8 à 14)  2025-01"
      ]
     },
     "execution_count": 33,
     "metadata": {},
     "output_type": "execute_result"
    }
   ],
   "source": [
    "df"
   ]
  },
  {
   "cell_type": "code",
   "execution_count": 20,
   "metadata": {},
   "outputs": [
    {
     "data": {
      "text/plain": [
       "True"
      ]
     },
     "execution_count": 20,
     "metadata": {},
     "output_type": "execute_result"
    }
   ],
   "source": [
    "df.iloc[0, 1] < df.iloc[3, 1]"
   ]
  },
  {
   "cell_type": "code",
   "execution_count": 38,
   "metadata": {},
   "outputs": [],
   "source": [
    "# Update the file\n",
    "df.to_excel('data/procedure_list.xlsx', index=False)"
   ]
  },
  {
   "cell_type": "code",
   "execution_count": 62,
   "metadata": {},
   "outputs": [
    {
     "ename": "TypeError",
     "evalue": "'datetime.datetime' object is not iterable",
     "output_type": "error",
     "traceback": [
      "\u001b[1;31m---------------------------------------------------------------------------\u001b[0m",
      "\u001b[1;31mTypeError\u001b[0m                                 Traceback (most recent call last)",
      "Cell \u001b[1;32mIn[62], line 10\u001b[0m\n\u001b[0;32m      7\u001b[0m rows \u001b[38;5;241m=\u001b[39m []\n\u001b[0;32m      9\u001b[0m \u001b[38;5;28;01mfor\u001b[39;00m proc, date \u001b[38;5;129;01min\u001b[39;00m sheet\u001b[38;5;241m.\u001b[39miter_rows(min_row\u001b[38;5;241m=\u001b[39m\u001b[38;5;241m2\u001b[39m, values_only\u001b[38;5;241m=\u001b[39m\u001b[38;5;28;01mTrue\u001b[39;00m):\n\u001b[1;32m---> 10\u001b[0m     \u001b[38;5;28mprint\u001b[39m(\u001b[38;5;28;43mmax\u001b[39;49m\u001b[43m(\u001b[49m\u001b[43mdate\u001b[49m\u001b[43m)\u001b[49m)\n",
      "\u001b[1;31mTypeError\u001b[0m: 'datetime.datetime' object is not iterable"
     ]
    }
   ],
   "source": [
    "from openpyxl import load_workbook\n",
    "import datetime\n",
    "\n",
    "wb = load_workbook(\"data/discussions_history.xlsx\")\n",
    "sheet = wb.active\n",
    "\n",
    "rows = []\n",
    "\n",
    "for proc, date in sheet.iter_rows(min_row=2, values_only=True):\n",
    "    print(max(date))\n",
    "    \n"
   ]
  },
  {
   "cell_type": "code",
   "execution_count": 55,
   "metadata": {},
   "outputs": [
    {
     "name": "stdout",
     "output_type": "stream",
     "text": [
      "[('PROC02', datetime.datetime(2022, 6, 1, 0, 0)), ('PROC15', datetime.datetime(2022, 7, 1, 0, 0)), ('PROC12', datetime.datetime(2022, 9, 1, 0, 0)), ('PROC13', datetime.datetime(2022, 10, 1, 0, 0)), ('PROC198', datetime.datetime(2022, 11, 1, 0, 0)), ('PROC27', datetime.datetime(2022, 12, 1, 0, 0)), ('PROC16 ', datetime.datetime(2023, 1, 1, 0, 0)), ('PROC17 DR01', datetime.datetime(2023, 2, 1, 0, 0)), ('PROC17 (p.1 à 14)', datetime.datetime(2023, 3, 1, 0, 0)), ('PROC171', datetime.datetime(2023, 4, 1, 0, 0)), ('PROC21', datetime.datetime(2023, 5, 1, 0, 0)), (' PROC20 DR09 + DR10', datetime.datetime(2023, 6, 1, 0, 0)), ('PROC20 DR03', datetime.datetime(2023, 7, 1, 0, 0)), ('PROC20 DR05', datetime.datetime(2023, 8, 1, 0, 0)), ('PROC13', datetime.datetime(2023, 9, 1, 0, 0)), ('PROC20 DR07 + DR08', datetime.datetime(2023, 10, 1, 0, 0)), ('PROC15 ', datetime.datetime(2023, 11, 1, 0, 0)), ('PROC12', datetime.datetime(2023, 12, 1, 0, 0)), ('PROC17 (p.1 à 14)', datetime.datetime(2024, 1, 1, 0, 0)), ('PROC17 (p.15 à fin)', datetime.datetime(2024, 2, 1, 0, 0)), ('PROC12', datetime.datetime(2024, 3, 1, 0, 0)), ('PROC300 + DR01 + DR02', datetime.datetime(2024, 4, 1, 0, 0)), (' PROC20 DR09 + DR10', datetime.datetime(2024, 5, 1, 0, 0)), ('PROC198', datetime.datetime(2024, 6, 1, 0, 0)), ('PROC02', datetime.datetime(2024, 7, 1, 0, 0)), ('PROC198', datetime.datetime(2024, 8, 1, 0, 0)), ('PROC13', datetime.datetime(2024, 9, 1, 0, 0)), ('PROC21 + DR02 + DR03', datetime.datetime(2024, 10, 1, 0, 0)), ('PROCXXX', datetime.datetime(2024, 11, 1, 0, 0)), ('PROC20 (p.1 à 7)', datetime.datetime(2024, 12, 1, 0, 0)), ('PROC20 (p.8 à 14)', datetime.datetime(2025, 1, 1, 0, 0))]\n"
     ]
    },
    {
     "data": {
      "text/plain": [
       "datetime.datetime(2022, 10, 1, 0, 0)"
      ]
     },
     "execution_count": 55,
     "metadata": {},
     "output_type": "execute_result"
    }
   ],
   "source": [
    "print(rows)\n",
    "max(rows[1][1], rows[3][1])"
   ]
  }
 ],
 "metadata": {
  "kernelspec": {
   "display_name": "base",
   "language": "python",
   "name": "python3"
  },
  "language_info": {
   "codemirror_mode": {
    "name": "ipython",
    "version": 3
   },
   "file_extension": ".py",
   "mimetype": "text/x-python",
   "name": "python",
   "nbconvert_exporter": "python",
   "pygments_lexer": "ipython3",
   "version": "3.10.14"
  }
 },
 "nbformat": 4,
 "nbformat_minor": 2
}
